{
  "nbformat": 4,
  "nbformat_minor": 0,
  "metadata": {
    "colab": {
      "provenance": [],
      "gpuType": "T4"
    },
    "kernelspec": {
      "name": "python3",
      "display_name": "Python 3"
    },
    "language_info": {
      "name": "python"
    },
    "accelerator": "GPU"
  },
  "cells": [
    {
      "cell_type": "code",
      "execution_count": null,
      "metadata": {
        "colab": {
          "base_uri": "https://localhost:8080/"
        },
        "id": "kg7yD6FE7blq",
        "outputId": "6e38283a-a9c3-4e5c-b8df-a9a361df4d65"
      },
      "outputs": [
        {
          "output_type": "stream",
          "name": "stdout",
          "text": [
            "Mounted at /content/drive\n"
          ]
        }
      ],
      "source": [
        "from google.colab import drive\n",
        "drive.mount('/content/drive')"
      ]
    },
    {
      "cell_type": "code",
      "source": [
        "!unzip '/content/drive/MyDrive/fruit_data.zip'"
      ],
      "metadata": {
        "id": "7kBr8wgc71xh"
      },
      "execution_count": null,
      "outputs": []
    },
    {
      "cell_type": "code",
      "source": [
        "import os\n",
        "import tensorflow\n",
        "from keras.models import Model\n",
        "from keras.optimizers import Adam\n",
        "from keras.applications.vgg16 import VGG16, preprocess_input\n",
        "from keras.preprocessing.image import ImageDataGenerator\n",
        "from keras.callbacks import ModelCheckpoint, EarlyStopping\n",
        "from keras.layers import Dense, Dropout, Flatten\n",
        "from pathlib import Path\n",
        "import numpy as np\n",
        "import matplotlib.pyplot as plt"
      ],
      "metadata": {
        "id": "1Lqes47k8z6y"
      },
      "execution_count": null,
      "outputs": []
    },
    {
      "cell_type": "code",
      "source": [
        "BATCH_SIZE = 64\n",
        "\n",
        "train_generator = ImageDataGenerator(rotation_range=90,\n",
        "                                     brightness_range=[0.1, 0.7],\n",
        "                                     width_shift_range=0.5,\n",
        "                                     height_shift_range=0.5,\n",
        "                                     horizontal_flip=True,\n",
        "                                     vertical_flip=True,\n",
        "                                     preprocessing_function=preprocess_input) # VGG16 preprocessing\n",
        "\n",
        "valid_generator = ImageDataGenerator(preprocessing_function=preprocess_input) # VGG16 preprocessing"
      ],
      "metadata": {
        "id": "n3qhDeRm7-6K"
      },
      "execution_count": null,
      "outputs": []
    },
    {
      "cell_type": "code",
      "source": [
        "download_dir = Path('fruit_data')\n",
        "\n",
        "train_data_dir = download_dir/'train'\n",
        "vaild_data_dir = download_dir/'valid'\n",
        "\n",
        "class_subset = sorted(os.listdir(download_dir/'train'))\n",
        "\n",
        "# Persiapan data pelatihan\n",
        "traingen = train_generator.flow_from_directory(\n",
        "    train_data_dir,\n",
        "    target_size=(224, 224),\n",
        "    batch_size=BATCH_SIZE,\n",
        "    class_mode='categorical'\n",
        ")\n",
        "\n",
        "# Persiapan data validasi\n",
        "validgen = valid_generator.flow_from_directory(\n",
        "    vaild_data_dir,\n",
        "    target_size=(224, 224),\n",
        "    batch_size=BATCH_SIZE,\n",
        "    class_mode='categorical'\n",
        ")"
      ],
      "metadata": {
        "colab": {
          "base_uri": "https://localhost:8080/"
        },
        "id": "dpN8_RB09Pvs",
        "outputId": "829b14cd-2ba6-4fa7-9c1d-a34402309a44"
      },
      "execution_count": null,
      "outputs": [
        {
          "output_type": "stream",
          "name": "stdout",
          "text": [
            "Found 1182 images belonging to 6 classes.\n",
            "Found 329 images belonging to 6 classes.\n"
          ]
        }
      ]
    },
    {
      "cell_type": "code",
      "source": [
        "def vgg_tf_model(input_shape, n_classes, optimizer='rmsprop'):\n",
        "    conv_base = VGG16(include_top=False,\n",
        "                     weights='imagenet',\n",
        "                     input_shape=input_shape)\n",
        "\n",
        "    for layer in conv_base.layers:\n",
        "      layer.trainable = False\n",
        "\n",
        "    top_model = conv_base.output\n",
        "    top_model = Flatten(name=\"flatten\")(top_model)\n",
        "    top_model = Dense(4096, activation='relu')(top_model)\n",
        "    top_model = Dense(1072, activation='relu')(top_model)\n",
        "    top_model = Dropout(0.2)(top_model)\n",
        "    output_layer = Dense(n_classes, activation='softmax')(top_model)\n",
        "\n",
        "    # Group the convolutional base and new fully-connected layers into a Model object.\n",
        "    model = Model(inputs=conv_base.input, outputs=output_layer)\n",
        "\n",
        "    # Compiles the model for training.\n",
        "    model.compile(optimizer=optimizer,\n",
        "                  loss='categorical_crossentropy',\n",
        "                  metrics=['accuracy'])\n",
        "\n",
        "    return model"
      ],
      "metadata": {
        "id": "TQ5FYp_6J4Ql"
      },
      "execution_count": null,
      "outputs": []
    },
    {
      "cell_type": "code",
      "source": [
        "input_shape = (224, 224, 3)\n",
        "optim_1 = Adam(learning_rate=0.001)\n",
        "n_classes=6\n",
        "\n",
        "#n_steps = traingen.samples // BATCH_SIZE\n",
        "#n_val_steps = validgen.samples // BATCH_SIZE\n",
        "n_epochs = 50\n",
        "\n",
        "# First we'll train the model without Fine-tuning\n",
        "vgg_model = vgg_tf_model(input_shape, n_classes, optim_1)"
      ],
      "metadata": {
        "id": "W5pQ_CJz8fLc",
        "colab": {
          "base_uri": "https://localhost:8080/"
        },
        "outputId": "4a773a13-9007-43ed-ed92-189b4952cd5a"
      },
      "execution_count": null,
      "outputs": [
        {
          "output_type": "stream",
          "name": "stdout",
          "text": [
            "Downloading data from https://storage.googleapis.com/tensorflow/keras-applications/vgg16/vgg16_weights_tf_dim_ordering_tf_kernels_notop.h5\n",
            "58889256/58889256 [==============================] - 2s 0us/step\n"
          ]
        }
      ]
    },
    {
      "cell_type": "code",
      "source": [
        "vgg_model.summary()"
      ],
      "metadata": {
        "colab": {
          "base_uri": "https://localhost:8080/"
        },
        "id": "TTxuXyzAsIf3",
        "outputId": "190c60bb-ad19-4691-f30e-fb321e42248f"
      },
      "execution_count": null,
      "outputs": [
        {
          "output_type": "stream",
          "name": "stdout",
          "text": [
            "Model: \"model\"\n",
            "_________________________________________________________________\n",
            " Layer (type)                Output Shape              Param #   \n",
            "=================================================================\n",
            " input_1 (InputLayer)        [(None, 224, 224, 3)]     0         \n",
            "                                                                 \n",
            " block1_conv1 (Conv2D)       (None, 224, 224, 64)      1792      \n",
            "                                                                 \n",
            " block1_conv2 (Conv2D)       (None, 224, 224, 64)      36928     \n",
            "                                                                 \n",
            " block1_pool (MaxPooling2D)  (None, 112, 112, 64)      0         \n",
            "                                                                 \n",
            " block2_conv1 (Conv2D)       (None, 112, 112, 128)     73856     \n",
            "                                                                 \n",
            " block2_conv2 (Conv2D)       (None, 112, 112, 128)     147584    \n",
            "                                                                 \n",
            " block2_pool (MaxPooling2D)  (None, 56, 56, 128)       0         \n",
            "                                                                 \n",
            " block3_conv1 (Conv2D)       (None, 56, 56, 256)       295168    \n",
            "                                                                 \n",
            " block3_conv2 (Conv2D)       (None, 56, 56, 256)       590080    \n",
            "                                                                 \n",
            " block3_conv3 (Conv2D)       (None, 56, 56, 256)       590080    \n",
            "                                                                 \n",
            " block3_pool (MaxPooling2D)  (None, 28, 28, 256)       0         \n",
            "                                                                 \n",
            " block4_conv1 (Conv2D)       (None, 28, 28, 512)       1180160   \n",
            "                                                                 \n",
            " block4_conv2 (Conv2D)       (None, 28, 28, 512)       2359808   \n",
            "                                                                 \n",
            " block4_conv3 (Conv2D)       (None, 28, 28, 512)       2359808   \n",
            "                                                                 \n",
            " block4_pool (MaxPooling2D)  (None, 14, 14, 512)       0         \n",
            "                                                                 \n",
            " block5_conv1 (Conv2D)       (None, 14, 14, 512)       2359808   \n",
            "                                                                 \n",
            " block5_conv2 (Conv2D)       (None, 14, 14, 512)       2359808   \n",
            "                                                                 \n",
            " block5_conv3 (Conv2D)       (None, 14, 14, 512)       2359808   \n",
            "                                                                 \n",
            " block5_pool (MaxPooling2D)  (None, 7, 7, 512)         0         \n",
            "                                                                 \n",
            " flatten (Flatten)           (None, 25088)             0         \n",
            "                                                                 \n",
            " dense (Dense)               (None, 4096)              102764544 \n",
            "                                                                 \n",
            " dense_1 (Dense)             (None, 1072)              4391984   \n",
            "                                                                 \n",
            " dropout (Dropout)           (None, 1072)              0         \n",
            "                                                                 \n",
            " dense_2 (Dense)             (None, 6)                 6438      \n",
            "                                                                 \n",
            "=================================================================\n",
            "Total params: 121,877,654\n",
            "Trainable params: 107,162,966\n",
            "Non-trainable params: 14,714,688\n",
            "_________________________________________________________________\n"
          ]
        }
      ]
    },
    {
      "cell_type": "code",
      "source": [
        "# EarlyStopping\n",
        "early_stop = EarlyStopping(monitor='val_loss',\n",
        "                           patience=10,\n",
        "                           restore_best_weights=True,\n",
        "                           mode='min')"
      ],
      "metadata": {
        "id": "U7ulqoLu8i4E"
      },
      "execution_count": null,
      "outputs": []
    },
    {
      "cell_type": "code",
      "source": [
        "%%time\n",
        "\n",
        "with tensorflow.device('/device:GPU:0'):\n",
        "  vgg_history = vgg_model.fit(traingen,\n",
        "                            batch_size=BATCH_SIZE,\n",
        "                            epochs=n_epochs,\n",
        "                            validation_data=validgen,\n",
        "                            steps_per_epoch=n_steps,\n",
        "                            validation_steps=n_val_steps,\n",
        "                            callbacks=[early_stop],\n",
        "                            verbose=1)"
      ],
      "metadata": {
        "colab": {
          "base_uri": "https://localhost:8080/"
        },
        "id": "1Ore3HII8kgc",
        "outputId": "dfaa155b-0a86-4a24-f040-dc96afbda4d7"
      },
      "execution_count": null,
      "outputs": [
        {
          "output_type": "stream",
          "name": "stdout",
          "text": [
            "Epoch 1/50\n",
            "18/18 [==============================] - 35s 2s/step - loss: 31.3110 - accuracy: 0.4231 - val_loss: 1.0083 - val_accuracy: 0.8500\n",
            "Epoch 2/50\n",
            "18/18 [==============================] - 28s 2s/step - loss: 1.0877 - accuracy: 0.7764 - val_loss: 0.6418 - val_accuracy: 0.9125\n",
            "Epoch 3/50\n",
            "18/18 [==============================] - 28s 2s/step - loss: 0.6127 - accuracy: 0.8542 - val_loss: 0.2590 - val_accuracy: 0.9469\n",
            "Epoch 4/50\n",
            "18/18 [==============================] - 29s 2s/step - loss: 0.3843 - accuracy: 0.8703 - val_loss: 0.4147 - val_accuracy: 0.9187\n",
            "Epoch 5/50\n",
            "18/18 [==============================] - 28s 2s/step - loss: 0.3623 - accuracy: 0.8828 - val_loss: 0.3638 - val_accuracy: 0.9250\n",
            "Epoch 6/50\n",
            "18/18 [==============================] - 30s 2s/step - loss: 0.3010 - accuracy: 0.9070 - val_loss: 0.3073 - val_accuracy: 0.9219\n",
            "Epoch 7/50\n",
            "18/18 [==============================] - 31s 2s/step - loss: 0.3477 - accuracy: 0.8989 - val_loss: 0.1649 - val_accuracy: 0.9625\n",
            "Epoch 8/50\n",
            "18/18 [==============================] - 28s 2s/step - loss: 0.3582 - accuracy: 0.8962 - val_loss: 0.1479 - val_accuracy: 0.9563\n",
            "Epoch 9/50\n",
            "18/18 [==============================] - 30s 2s/step - loss: 0.2691 - accuracy: 0.9070 - val_loss: 0.1234 - val_accuracy: 0.9656\n",
            "Epoch 10/50\n",
            "18/18 [==============================] - 27s 1s/step - loss: 0.2254 - accuracy: 0.9293 - val_loss: 0.2279 - val_accuracy: 0.9531\n",
            "Epoch 11/50\n",
            "18/18 [==============================] - 31s 2s/step - loss: 0.2522 - accuracy: 0.9106 - val_loss: 0.1072 - val_accuracy: 0.9656\n",
            "Epoch 12/50\n",
            "18/18 [==============================] - 28s 2s/step - loss: 0.2102 - accuracy: 0.9222 - val_loss: 0.2413 - val_accuracy: 0.9531\n",
            "Epoch 13/50\n",
            "18/18 [==============================] - 28s 2s/step - loss: 0.2010 - accuracy: 0.9240 - val_loss: 0.2145 - val_accuracy: 0.9500\n",
            "Epoch 14/50\n",
            "18/18 [==============================] - 27s 2s/step - loss: 0.1823 - accuracy: 0.9374 - val_loss: 0.1374 - val_accuracy: 0.9625\n",
            "Epoch 15/50\n",
            "18/18 [==============================] - 28s 2s/step - loss: 0.2379 - accuracy: 0.9302 - val_loss: 0.2428 - val_accuracy: 0.9406\n",
            "Epoch 16/50\n",
            "18/18 [==============================] - 28s 2s/step - loss: 0.2613 - accuracy: 0.9114 - val_loss: 0.1379 - val_accuracy: 0.9531\n",
            "Epoch 17/50\n",
            "18/18 [==============================] - 28s 2s/step - loss: 0.2476 - accuracy: 0.9132 - val_loss: 0.0747 - val_accuracy: 0.9750\n",
            "Epoch 18/50\n",
            "18/18 [==============================] - 28s 2s/step - loss: 0.1769 - accuracy: 0.9383 - val_loss: 0.1366 - val_accuracy: 0.9688\n",
            "Epoch 19/50\n",
            "18/18 [==============================] - 28s 2s/step - loss: 0.2060 - accuracy: 0.9338 - val_loss: 0.1160 - val_accuracy: 0.9750\n",
            "Epoch 20/50\n",
            "18/18 [==============================] - 27s 2s/step - loss: 0.2264 - accuracy: 0.9293 - val_loss: 0.1277 - val_accuracy: 0.9688\n",
            "Epoch 21/50\n",
            "18/18 [==============================] - 28s 2s/step - loss: 0.1508 - accuracy: 0.9499 - val_loss: 0.1372 - val_accuracy: 0.9688\n",
            "Epoch 22/50\n",
            "18/18 [==============================] - 27s 2s/step - loss: 0.2386 - accuracy: 0.9258 - val_loss: 0.2456 - val_accuracy: 0.9531\n",
            "Epoch 23/50\n",
            "18/18 [==============================] - 27s 1s/step - loss: 0.1993 - accuracy: 0.9302 - val_loss: 0.1603 - val_accuracy: 0.9594\n",
            "Epoch 24/50\n",
            "18/18 [==============================] - 28s 2s/step - loss: 0.1771 - accuracy: 0.9436 - val_loss: 0.1345 - val_accuracy: 0.9719\n",
            "Epoch 25/50\n",
            "18/18 [==============================] - 28s 2s/step - loss: 0.2455 - accuracy: 0.9267 - val_loss: 0.1247 - val_accuracy: 0.9688\n",
            "Epoch 26/50\n",
            "18/18 [==============================] - 27s 2s/step - loss: 0.1780 - accuracy: 0.9374 - val_loss: 0.1457 - val_accuracy: 0.9719\n",
            "Epoch 27/50\n",
            "18/18 [==============================] - 28s 2s/step - loss: 0.1904 - accuracy: 0.9356 - val_loss: 0.1202 - val_accuracy: 0.9750\n",
            "CPU times: user 12min 31s, sys: 36.9 s, total: 13min 8s\n",
            "Wall time: 15min\n"
          ]
        }
      ]
    },
    {
      "cell_type": "code",
      "source": [
        "plt.plot(vgg_history.history['accuracy'], label='Training')\n",
        "plt.plot(vgg_history.history['val_accuracy'], label='Validation')\n",
        "plt.xlabel(\"Epoch\")\n",
        "plt.ylabel(\"Accuracy\")\n",
        "plt.title(\"VGG16 Accuracy\")\n",
        "plt.legend()"
      ],
      "metadata": {
        "colab": {
          "base_uri": "https://localhost:8080/",
          "height": 489
        },
        "id": "WiPdB0CuMV62",
        "outputId": "361600cf-07a0-44c3-ee92-64fb68daf35b"
      },
      "execution_count": null,
      "outputs": [
        {
          "output_type": "execute_result",
          "data": {
            "text/plain": [
              "<matplotlib.legend.Legend at 0x7fc7e72381f0>"
            ]
          },
          "metadata": {},
          "execution_count": 107
        },
        {
          "output_type": "display_data",
          "data": {
            "text/plain": [
              "<Figure size 640x480 with 1 Axes>"
            ],
            "image/png": "[encoded data removed]"
          },
          "metadata": {}
        }
      ]
    },
    {
      "cell_type": "code",
      "source": [
        "plt.plot(range(1,27), vgg_history.history['loss'][1:], label='Training')\n",
        "plt.plot(range(1,27), vgg_history.history['val_loss'][1:], label='Validation')\n",
        "plt.xlabel(\"Epoch\")\n",
        "plt.ylabel(\"Loss\")\n",
        "plt.title(\"VGG16 Loss\")\n",
        "plt.legend()"
      ],
      "metadata": {
        "colab": {
          "base_uri": "https://localhost:8080/",
          "height": 489
        },
        "id": "8zjsltxlLnPo",
        "outputId": "3119c039-de8c-4562-8e9f-5577e67bdfd4"
      },
      "execution_count": null,
      "outputs": [
        {
          "output_type": "execute_result",
          "data": {
            "text/plain": [
              "<matplotlib.legend.Legend at 0x7fc7f028cbe0>"
            ]
          },
          "metadata": {},
          "execution_count": 108
        },
        {
          "output_type": "display_data",
          "data": {
            "text/plain": [
              "<Figure size 640x480 with 1 Axes>"
            ],
            "image/png": "[encoded data removed]"
          },
          "metadata": {}
        }
      ]
    },
    {
      "cell_type": "code",
      "source": [
        "# Evaluasi model\n",
        "score = vgg_model.evaluate(validgen, verbose=0)\n",
        "print('Test accuracy:', score[1])"
      ],
      "metadata": {
        "colab": {
          "base_uri": "https://localhost:8080/"
        },
        "id": "9NFe1Gza4N4_",
        "outputId": "873b1513-ac21-4ad0-e5c8-3e8ddccb9171"
      },
      "execution_count": null,
      "outputs": [
        {
          "output_type": "stream",
          "name": "stdout",
          "text": [
            "Test accuracy: 0.975683867931366\n"
          ]
        }
      ]
    },
    {
      "cell_type": "code",
      "source": [
        "tensorflow.keras.saving.save_model(vgg_model, '/content/drive/MyDrive/VGG16_TF_model.h5')"
      ],
      "metadata": {
        "id": "FLEl3msrKUgW"
      },
      "execution_count": null,
      "outputs": []
    }
  ]
}